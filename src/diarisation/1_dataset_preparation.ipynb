{
 "cells": [
  {
   "cell_type": "code",
   "execution_count": 2,
   "metadata": {},
   "outputs": [],
   "source": [
    "import random\n",
    "import uuid\n",
    "from pathlib import Path\n",
    "\n",
    "import pandas as pd\n",
    "\n",
    "import numpy as np\n",
    "\n",
    "from librosa.core import get_duration, resample, load\n",
    "from librosa.output import write_wav\n",
    "\n",
    "from pydub import AudioSegment\n",
    "\n",
    "from tqdm.autonotebook import tqdm, trange"
   ]
  },
  {
   "cell_type": "code",
   "execution_count": 3,
   "metadata": {},
   "outputs": [],
   "source": [
    "import IPython.display as ipd"
   ]
  },
  {
   "cell_type": "code",
   "execution_count": 4,
   "metadata": {},
   "outputs": [],
   "source": [
    "current_dir = Path('.')"
   ]
  },
  {
   "cell_type": "code",
   "execution_count": 5,
   "metadata": {},
   "outputs": [],
   "source": [
    "config_path = \"config\"\n",
    "(current_dir / config_path).mkdir(exist_ok=True)"
   ]
  },
  {
   "cell_type": "markdown",
   "metadata": {},
   "source": [
    "Данные находятся на 2 уровня выше (если не так, то нужно прописать путь по папки)"
   ]
  },
  {
   "cell_type": "code",
   "execution_count": 6,
   "metadata": {},
   "outputs": [],
   "source": [
    "data_dir = current_dir / '..' / '..' / 'data' / 'nr'"
   ]
  },
  {
   "cell_type": "code",
   "execution_count": 7,
   "metadata": {},
   "outputs": [],
   "source": [
    "base_output_dir = current_dir / '..' / '..' / 'data' / \"transformed\" / \"diarisation\" / 'nr'"
   ]
  },
  {
   "cell_type": "code",
   "execution_count": 8,
   "metadata": {},
   "outputs": [
    {
     "data": {
      "text/plain": [
       "[WindowsPath('../../data/nr/test'), WindowsPath('../../data/nr/train')]"
      ]
     },
     "execution_count": 8,
     "metadata": {},
     "output_type": "execute_result"
    }
   ],
   "source": [
    "list(data_dir.iterdir())"
   ]
  },
  {
   "cell_type": "markdown",
   "metadata": {},
   "source": [
    "## Почему так?\n",
    "Из-за непонятной мне причины, `spleeter` работает только с стерое-аудио, причем с `sample_rate` только 44100."
   ]
  },
  {
   "cell_type": "code",
   "execution_count": 9,
   "metadata": {},
   "outputs": [],
   "source": [
    "from_sr = 8000\n",
    "to_sr = 44100\n",
    "to_channels = \"2\""
   ]
  },
  {
   "cell_type": "code",
   "execution_count": 10,
   "metadata": {},
   "outputs": [],
   "source": [
    "def preprocess_part(part, num_audios):\n",
    "    df = pd.DataFrame(columns=[\"mix_path\", \"first_speaker_path\", \"second_speaker_path\", \"duration\"])\n",
    "    \n",
    "    source_audio_dir = data_dir / part / \"source\"\n",
    "    source_audios = list(source_audio_dir.iterdir())\n",
    "    \n",
    "    for i in trange(num_audios):\n",
    "        # select 2 random audios to mix\n",
    "        first_speaker_filename, second_speaker_filename = random.sample(source_audios, k=2)\n",
    "        # read audios\n",
    "        first_speaker = AudioSegment.from_wav(first_speaker_filename / \"1.wav\")\n",
    "        second_speaker = AudioSegment.from_wav(second_speaker_filename / \"1.wav\")\n",
    "        \n",
    "        # random offset from start for mix\n",
    "        offset_duration = random.randint(0, 5) * 1000 # seconds to milliseconds\n",
    "        first_speaker += AudioSegment.silent(duration=offset_duration, frame_rate=to_sr)\n",
    "        second_speaker = AudioSegment.silent(duration=offset_duration, frame_rate=to_sr) + second_speaker\n",
    "        \n",
    "        # overlay 2 audios\n",
    "        mix_audio = first_speaker.overlay(second_speaker)\n",
    "        \n",
    "        # save to random output folder\n",
    "        output_folder = base_output_dir / part / str(uuid.uuid4().hex)\n",
    "        output_folder.mkdir(parents=True, exist_ok=True)\n",
    "        first_speaker.export(output_folder / \"first_speaker.wav\", parameters=[\"-ac\", to_channels])\n",
    "        second_speaker.export(output_folder / \"second_speaker.wav\", parameters=[\"-ac\", to_channels])\n",
    "        mix_audio.export(output_folder / \"mix_audio.wav\", parameters=[\"-ac\", to_channels])\n",
    "        \n",
    "        # append to dataframe\n",
    "        relative_path = output_folder.relative_to(base_output_dir)\n",
    "        df.loc[len(df)] = [str(relative_path / \"mix_audio.wav\"), str(relative_path / \"first_speaker.wav\"), str(relative_path / \"second_speaker.wav\"), mix_audio.duration_seconds]\n",
    "        \n",
    "    df.to_csv(f\"{config_path}/voice_{part}.csv\", index=False)\n",
    "    return df.head()"
   ]
  },
  {
   "cell_type": "code",
   "execution_count": 11,
   "metadata": {},
   "outputs": [
    {
     "data": {
      "application/vnd.jupyter.widget-view+json": {
       "model_id": "9e2a8304a3654601ac039ce29b2a91c1",
       "version_major": 2,
       "version_minor": 0
      },
      "text/plain": [
       "HBox(children=(FloatProgress(value=0.0, max=3000.0), HTML(value='')))"
      ]
     },
     "metadata": {},
     "output_type": "display_data"
    },
    {
     "name": "stdout",
     "output_type": "stream",
     "text": [
      "\n"
     ]
    },
    {
     "data": {
      "text/html": [
       "<div>\n",
       "<style scoped>\n",
       "    .dataframe tbody tr th:only-of-type {\n",
       "        vertical-align: middle;\n",
       "    }\n",
       "\n",
       "    .dataframe tbody tr th {\n",
       "        vertical-align: top;\n",
       "    }\n",
       "\n",
       "    .dataframe thead th {\n",
       "        text-align: right;\n",
       "    }\n",
       "</style>\n",
       "<table border=\"1\" class=\"dataframe\">\n",
       "  <thead>\n",
       "    <tr style=\"text-align: right;\">\n",
       "      <th></th>\n",
       "      <th>mix_path</th>\n",
       "      <th>first_speaker_path</th>\n",
       "      <th>second_speaker_path</th>\n",
       "      <th>duration</th>\n",
       "    </tr>\n",
       "  </thead>\n",
       "  <tbody>\n",
       "    <tr>\n",
       "      <th>0</th>\n",
       "      <td>train\\4cda1ebc580e4a3dbf053878c2604e7c\\mix_aud...</td>\n",
       "      <td>train\\4cda1ebc580e4a3dbf053878c2604e7c\\first_s...</td>\n",
       "      <td>train\\4cda1ebc580e4a3dbf053878c2604e7c\\second_...</td>\n",
       "      <td>18.0</td>\n",
       "    </tr>\n",
       "    <tr>\n",
       "      <th>1</th>\n",
       "      <td>train\\70f0b0237be742c89890312d84b62d2a\\mix_aud...</td>\n",
       "      <td>train\\70f0b0237be742c89890312d84b62d2a\\first_s...</td>\n",
       "      <td>train\\70f0b0237be742c89890312d84b62d2a\\second_...</td>\n",
       "      <td>15.0</td>\n",
       "    </tr>\n",
       "    <tr>\n",
       "      <th>2</th>\n",
       "      <td>train\\8dd1e6aff7fe4299aed725f9bf674258\\mix_aud...</td>\n",
       "      <td>train\\8dd1e6aff7fe4299aed725f9bf674258\\first_s...</td>\n",
       "      <td>train\\8dd1e6aff7fe4299aed725f9bf674258\\second_...</td>\n",
       "      <td>18.0</td>\n",
       "    </tr>\n",
       "    <tr>\n",
       "      <th>3</th>\n",
       "      <td>train\\3310552a6da5499a86bded48b66cccd4\\mix_aud...</td>\n",
       "      <td>train\\3310552a6da5499a86bded48b66cccd4\\first_s...</td>\n",
       "      <td>train\\3310552a6da5499a86bded48b66cccd4\\second_...</td>\n",
       "      <td>16.0</td>\n",
       "    </tr>\n",
       "    <tr>\n",
       "      <th>4</th>\n",
       "      <td>train\\011fb596e13044ab8567e5e566250b0d\\mix_aud...</td>\n",
       "      <td>train\\011fb596e13044ab8567e5e566250b0d\\first_s...</td>\n",
       "      <td>train\\011fb596e13044ab8567e5e566250b0d\\second_...</td>\n",
       "      <td>16.0</td>\n",
       "    </tr>\n",
       "  </tbody>\n",
       "</table>\n",
       "</div>"
      ],
      "text/plain": [
       "                                            mix_path  \\\n",
       "0  train\\4cda1ebc580e4a3dbf053878c2604e7c\\mix_aud...   \n",
       "1  train\\70f0b0237be742c89890312d84b62d2a\\mix_aud...   \n",
       "2  train\\8dd1e6aff7fe4299aed725f9bf674258\\mix_aud...   \n",
       "3  train\\3310552a6da5499a86bded48b66cccd4\\mix_aud...   \n",
       "4  train\\011fb596e13044ab8567e5e566250b0d\\mix_aud...   \n",
       "\n",
       "                                  first_speaker_path  \\\n",
       "0  train\\4cda1ebc580e4a3dbf053878c2604e7c\\first_s...   \n",
       "1  train\\70f0b0237be742c89890312d84b62d2a\\first_s...   \n",
       "2  train\\8dd1e6aff7fe4299aed725f9bf674258\\first_s...   \n",
       "3  train\\3310552a6da5499a86bded48b66cccd4\\first_s...   \n",
       "4  train\\011fb596e13044ab8567e5e566250b0d\\first_s...   \n",
       "\n",
       "                                 second_speaker_path  duration  \n",
       "0  train\\4cda1ebc580e4a3dbf053878c2604e7c\\second_...      18.0  \n",
       "1  train\\70f0b0237be742c89890312d84b62d2a\\second_...      15.0  \n",
       "2  train\\8dd1e6aff7fe4299aed725f9bf674258\\second_...      18.0  \n",
       "3  train\\3310552a6da5499a86bded48b66cccd4\\second_...      16.0  \n",
       "4  train\\011fb596e13044ab8567e5e566250b0d\\second_...      16.0  "
      ]
     },
     "execution_count": 11,
     "metadata": {},
     "output_type": "execute_result"
    }
   ],
   "source": [
    "preprocess_part(\"train\", num_audios=3000)"
   ]
  },
  {
   "cell_type": "code",
   "execution_count": 12,
   "metadata": {},
   "outputs": [
    {
     "data": {
      "application/vnd.jupyter.widget-view+json": {
       "model_id": "ba41c64a20d846b98ef52aa764fba081",
       "version_major": 2,
       "version_minor": 0
      },
      "text/plain": [
       "HBox(children=(FloatProgress(value=0.0, max=400.0), HTML(value='')))"
      ]
     },
     "metadata": {},
     "output_type": "display_data"
    },
    {
     "name": "stdout",
     "output_type": "stream",
     "text": [
      "\n"
     ]
    },
    {
     "data": {
      "text/html": [
       "<div>\n",
       "<style scoped>\n",
       "    .dataframe tbody tr th:only-of-type {\n",
       "        vertical-align: middle;\n",
       "    }\n",
       "\n",
       "    .dataframe tbody tr th {\n",
       "        vertical-align: top;\n",
       "    }\n",
       "\n",
       "    .dataframe thead th {\n",
       "        text-align: right;\n",
       "    }\n",
       "</style>\n",
       "<table border=\"1\" class=\"dataframe\">\n",
       "  <thead>\n",
       "    <tr style=\"text-align: right;\">\n",
       "      <th></th>\n",
       "      <th>mix_path</th>\n",
       "      <th>first_speaker_path</th>\n",
       "      <th>second_speaker_path</th>\n",
       "      <th>duration</th>\n",
       "    </tr>\n",
       "  </thead>\n",
       "  <tbody>\n",
       "    <tr>\n",
       "      <th>0</th>\n",
       "      <td>test\\629b1ff449ce42969eede030f6a04116\\mix_audi...</td>\n",
       "      <td>test\\629b1ff449ce42969eede030f6a04116\\first_sp...</td>\n",
       "      <td>test\\629b1ff449ce42969eede030f6a04116\\second_s...</td>\n",
       "      <td>15.0</td>\n",
       "    </tr>\n",
       "    <tr>\n",
       "      <th>1</th>\n",
       "      <td>test\\5720b430a5c642ec9446b3c4bccffd6b\\mix_audi...</td>\n",
       "      <td>test\\5720b430a5c642ec9446b3c4bccffd6b\\first_sp...</td>\n",
       "      <td>test\\5720b430a5c642ec9446b3c4bccffd6b\\second_s...</td>\n",
       "      <td>20.0</td>\n",
       "    </tr>\n",
       "    <tr>\n",
       "      <th>2</th>\n",
       "      <td>test\\fdceb1c6905d4455afd85462cabc7822\\mix_audi...</td>\n",
       "      <td>test\\fdceb1c6905d4455afd85462cabc7822\\first_sp...</td>\n",
       "      <td>test\\fdceb1c6905d4455afd85462cabc7822\\second_s...</td>\n",
       "      <td>18.0</td>\n",
       "    </tr>\n",
       "    <tr>\n",
       "      <th>3</th>\n",
       "      <td>test\\405120b1889c4a2f88483dc0d044258f\\mix_audi...</td>\n",
       "      <td>test\\405120b1889c4a2f88483dc0d044258f\\first_sp...</td>\n",
       "      <td>test\\405120b1889c4a2f88483dc0d044258f\\second_s...</td>\n",
       "      <td>17.0</td>\n",
       "    </tr>\n",
       "    <tr>\n",
       "      <th>4</th>\n",
       "      <td>test\\ac6c246da01f469286d0091af21be786\\mix_audi...</td>\n",
       "      <td>test\\ac6c246da01f469286d0091af21be786\\first_sp...</td>\n",
       "      <td>test\\ac6c246da01f469286d0091af21be786\\second_s...</td>\n",
       "      <td>18.0</td>\n",
       "    </tr>\n",
       "  </tbody>\n",
       "</table>\n",
       "</div>"
      ],
      "text/plain": [
       "                                            mix_path  \\\n",
       "0  test\\629b1ff449ce42969eede030f6a04116\\mix_audi...   \n",
       "1  test\\5720b430a5c642ec9446b3c4bccffd6b\\mix_audi...   \n",
       "2  test\\fdceb1c6905d4455afd85462cabc7822\\mix_audi...   \n",
       "3  test\\405120b1889c4a2f88483dc0d044258f\\mix_audi...   \n",
       "4  test\\ac6c246da01f469286d0091af21be786\\mix_audi...   \n",
       "\n",
       "                                  first_speaker_path  \\\n",
       "0  test\\629b1ff449ce42969eede030f6a04116\\first_sp...   \n",
       "1  test\\5720b430a5c642ec9446b3c4bccffd6b\\first_sp...   \n",
       "2  test\\fdceb1c6905d4455afd85462cabc7822\\first_sp...   \n",
       "3  test\\405120b1889c4a2f88483dc0d044258f\\first_sp...   \n",
       "4  test\\ac6c246da01f469286d0091af21be786\\first_sp...   \n",
       "\n",
       "                                 second_speaker_path  duration  \n",
       "0  test\\629b1ff449ce42969eede030f6a04116\\second_s...      15.0  \n",
       "1  test\\5720b430a5c642ec9446b3c4bccffd6b\\second_s...      20.0  \n",
       "2  test\\fdceb1c6905d4455afd85462cabc7822\\second_s...      18.0  \n",
       "3  test\\405120b1889c4a2f88483dc0d044258f\\second_s...      17.0  \n",
       "4  test\\ac6c246da01f469286d0091af21be786\\second_s...      18.0  "
      ]
     },
     "execution_count": 12,
     "metadata": {},
     "output_type": "execute_result"
    }
   ],
   "source": [
    "preprocess_part(\"test\", num_audios=400)"
   ]
  }
 ],
 "metadata": {
  "kernelspec": {
   "display_name": "Python 3",
   "language": "python",
   "name": "python3"
  },
  "language_info": {
   "codemirror_mode": {
    "name": "ipython",
    "version": 3
   },
   "file_extension": ".py",
   "mimetype": "text/x-python",
   "name": "python",
   "nbconvert_exporter": "python",
   "pygments_lexer": "ipython3",
   "version": "3.6.10"
  }
 },
 "nbformat": 4,
 "nbformat_minor": 4
}
