{
 "cells": [
  {
   "cell_type": "code",
   "execution_count": 3,
   "metadata": {},
   "outputs": [],
   "source": [
    "from pathlib import Path\n",
    "\n",
    "import pandas as pd\n",
    "\n",
    "from librosa.core import get_duration\n",
    "from tqdm.autonotebook import tqdm"
   ]
  },
  {
   "cell_type": "code",
   "execution_count": 2,
   "metadata": {},
   "outputs": [],
   "source": [
    "current_dir = Path('.')"
   ]
  },
  {
   "cell_type": "code",
   "execution_count": 4,
   "metadata": {},
   "outputs": [],
   "source": [
    "config_path = \"config\"\n",
    "(current_dir / config_path).mkdir(exist_ok=True)"
   ]
  },
  {
   "cell_type": "markdown",
   "metadata": {},
   "source": [
    "Данные находятся на 2 уровня выше (если не так, то нужно прописать путь по папки)"
   ]
  },
  {
   "cell_type": "code",
   "execution_count": 5,
   "metadata": {},
   "outputs": [],
   "source": [
    "data_dir = current_dir / '..' / '..' / 'data' / 'nr'"
   ]
  },
  {
   "cell_type": "code",
   "execution_count": 8,
   "metadata": {},
   "outputs": [
    {
     "data": {
      "text/plain": [
       "[WindowsPath('../../data/nr/test'), WindowsPath('../../data/nr/train')]"
      ]
     },
     "execution_count": 8,
     "metadata": {},
     "output_type": "execute_result"
    }
   ],
   "source": [
    "list(data_dir.iterdir())"
   ]
  },
  {
   "cell_type": "code",
   "execution_count": 9,
   "metadata": {},
   "outputs": [],
   "source": [
    "def preprocess_part(part):\n",
    "    df = pd.DataFrame(columns=[\"mix_path\", \"voice_path\", \"noise_path\", \"duration\"])\n",
    "    for mix_dir in tqdm((data_dir / part / \"mix\").iterdir()):\n",
    "        mix_path = mix_dir / \"mix.wav\"\n",
    "        folder_name = mix_dir.stem\n",
    "        voice_path = data_dir / part / \"source\" / folder_name / \"1.wav\"\n",
    "        noise_path = data_dir / part / \"source\" / folder_name / \"2.wav\"\n",
    "        \n",
    "        mix_duration = get_duration(filename=str(mix_path))\n",
    "        voice_duration = get_duration(filename=str(voice_path))\n",
    "        noise_duration = get_duration(filename=str(noise_path))\n",
    "        assert mix_duration == voice_duration == noise_duration\n",
    "        \n",
    "        df.loc[len(df)] = [mix_path, voice_path, noise_path, mix_duration]\n",
    "    df.to_csv(f\"{config_path}/voice_{part}.csv\", index=False)\n",
    "    return df.head()"
   ]
  },
  {
   "cell_type": "code",
   "execution_count": 10,
   "metadata": {},
   "outputs": [
    {
     "data": {
      "application/vnd.jupyter.widget-view+json": {
       "model_id": "88e2e95bf0c4410391fb78ba5e577a0b",
       "version_major": 2,
       "version_minor": 0
      },
      "text/plain": [
       "HBox(children=(IntProgress(value=1, bar_style='info', max=1), HTML(value='')))"
      ]
     },
     "metadata": {},
     "output_type": "display_data"
    },
    {
     "name": "stdout",
     "output_type": "stream",
     "text": [
      "\n"
     ]
    },
    {
     "data": {
      "text/html": [
       "<div>\n",
       "<style scoped>\n",
       "    .dataframe tbody tr th:only-of-type {\n",
       "        vertical-align: middle;\n",
       "    }\n",
       "\n",
       "    .dataframe tbody tr th {\n",
       "        vertical-align: top;\n",
       "    }\n",
       "\n",
       "    .dataframe thead th {\n",
       "        text-align: right;\n",
       "    }\n",
       "</style>\n",
       "<table border=\"1\" class=\"dataframe\">\n",
       "  <thead>\n",
       "    <tr style=\"text-align: right;\">\n",
       "      <th></th>\n",
       "      <th>mix_path</th>\n",
       "      <th>voice_path</th>\n",
       "      <th>noise_path</th>\n",
       "      <th>duration</th>\n",
       "    </tr>\n",
       "  </thead>\n",
       "  <tbody>\n",
       "    <tr>\n",
       "      <td>0</td>\n",
       "      <td>..\\..\\data\\nr\\train\\mix\\0006f9c421ef408ab5fd5a...</td>\n",
       "      <td>..\\..\\data\\nr\\train\\source\\0006f9c421ef408ab5f...</td>\n",
       "      <td>..\\..\\data\\nr\\train\\source\\0006f9c421ef408ab5f...</td>\n",
       "      <td>15.0</td>\n",
       "    </tr>\n",
       "    <tr>\n",
       "      <td>1</td>\n",
       "      <td>..\\..\\data\\nr\\train\\mix\\00a38fa379b8423192eb11...</td>\n",
       "      <td>..\\..\\data\\nr\\train\\source\\00a38fa379b8423192e...</td>\n",
       "      <td>..\\..\\data\\nr\\train\\source\\00a38fa379b8423192e...</td>\n",
       "      <td>15.0</td>\n",
       "    </tr>\n",
       "    <tr>\n",
       "      <td>2</td>\n",
       "      <td>..\\..\\data\\nr\\train\\mix\\00a9062c28ec46ac8c3945...</td>\n",
       "      <td>..\\..\\data\\nr\\train\\source\\00a9062c28ec46ac8c3...</td>\n",
       "      <td>..\\..\\data\\nr\\train\\source\\00a9062c28ec46ac8c3...</td>\n",
       "      <td>15.0</td>\n",
       "    </tr>\n",
       "    <tr>\n",
       "      <td>3</td>\n",
       "      <td>..\\..\\data\\nr\\train\\mix\\00ac38d7e579480f83b3ad...</td>\n",
       "      <td>..\\..\\data\\nr\\train\\source\\00ac38d7e579480f83b...</td>\n",
       "      <td>..\\..\\data\\nr\\train\\source\\00ac38d7e579480f83b...</td>\n",
       "      <td>15.0</td>\n",
       "    </tr>\n",
       "    <tr>\n",
       "      <td>4</td>\n",
       "      <td>..\\..\\data\\nr\\train\\mix\\00f17f6ef7234254a9456f...</td>\n",
       "      <td>..\\..\\data\\nr\\train\\source\\00f17f6ef7234254a94...</td>\n",
       "      <td>..\\..\\data\\nr\\train\\source\\00f17f6ef7234254a94...</td>\n",
       "      <td>15.0</td>\n",
       "    </tr>\n",
       "  </tbody>\n",
       "</table>\n",
       "</div>"
      ],
      "text/plain": [
       "                                            mix_path  \\\n",
       "0  ..\\..\\data\\nr\\train\\mix\\0006f9c421ef408ab5fd5a...   \n",
       "1  ..\\..\\data\\nr\\train\\mix\\00a38fa379b8423192eb11...   \n",
       "2  ..\\..\\data\\nr\\train\\mix\\00a9062c28ec46ac8c3945...   \n",
       "3  ..\\..\\data\\nr\\train\\mix\\00ac38d7e579480f83b3ad...   \n",
       "4  ..\\..\\data\\nr\\train\\mix\\00f17f6ef7234254a9456f...   \n",
       "\n",
       "                                          voice_path  \\\n",
       "0  ..\\..\\data\\nr\\train\\source\\0006f9c421ef408ab5f...   \n",
       "1  ..\\..\\data\\nr\\train\\source\\00a38fa379b8423192e...   \n",
       "2  ..\\..\\data\\nr\\train\\source\\00a9062c28ec46ac8c3...   \n",
       "3  ..\\..\\data\\nr\\train\\source\\00ac38d7e579480f83b...   \n",
       "4  ..\\..\\data\\nr\\train\\source\\00f17f6ef7234254a94...   \n",
       "\n",
       "                                          noise_path  duration  \n",
       "0  ..\\..\\data\\nr\\train\\source\\0006f9c421ef408ab5f...      15.0  \n",
       "1  ..\\..\\data\\nr\\train\\source\\00a38fa379b8423192e...      15.0  \n",
       "2  ..\\..\\data\\nr\\train\\source\\00a9062c28ec46ac8c3...      15.0  \n",
       "3  ..\\..\\data\\nr\\train\\source\\00ac38d7e579480f83b...      15.0  \n",
       "4  ..\\..\\data\\nr\\train\\source\\00f17f6ef7234254a94...      15.0  "
      ]
     },
     "execution_count": 10,
     "metadata": {},
     "output_type": "execute_result"
    }
   ],
   "source": [
    "preprocess_part(\"train\")"
   ]
  },
  {
   "cell_type": "code",
   "execution_count": 11,
   "metadata": {},
   "outputs": [
    {
     "data": {
      "application/vnd.jupyter.widget-view+json": {
       "model_id": "35af2fbede484cc1ba762133687574cd",
       "version_major": 2,
       "version_minor": 0
      },
      "text/plain": [
       "HBox(children=(IntProgress(value=1, bar_style='info', max=1), HTML(value='')))"
      ]
     },
     "metadata": {},
     "output_type": "display_data"
    },
    {
     "name": "stdout",
     "output_type": "stream",
     "text": [
      "\n"
     ]
    },
    {
     "data": {
      "text/html": [
       "<div>\n",
       "<style scoped>\n",
       "    .dataframe tbody tr th:only-of-type {\n",
       "        vertical-align: middle;\n",
       "    }\n",
       "\n",
       "    .dataframe tbody tr th {\n",
       "        vertical-align: top;\n",
       "    }\n",
       "\n",
       "    .dataframe thead th {\n",
       "        text-align: right;\n",
       "    }\n",
       "</style>\n",
       "<table border=\"1\" class=\"dataframe\">\n",
       "  <thead>\n",
       "    <tr style=\"text-align: right;\">\n",
       "      <th></th>\n",
       "      <th>mix_path</th>\n",
       "      <th>voice_path</th>\n",
       "      <th>noise_path</th>\n",
       "      <th>duration</th>\n",
       "    </tr>\n",
       "  </thead>\n",
       "  <tbody>\n",
       "    <tr>\n",
       "      <td>0</td>\n",
       "      <td>..\\..\\data\\nr\\test\\mix\\ccc0f5f83eab4172838dbd9...</td>\n",
       "      <td>..\\..\\data\\nr\\test\\source\\ccc0f5f83eab4172838d...</td>\n",
       "      <td>..\\..\\data\\nr\\test\\source\\ccc0f5f83eab4172838d...</td>\n",
       "      <td>15.0</td>\n",
       "    </tr>\n",
       "    <tr>\n",
       "      <td>1</td>\n",
       "      <td>..\\..\\data\\nr\\test\\mix\\ccf2a3d9eea04154ba14e05...</td>\n",
       "      <td>..\\..\\data\\nr\\test\\source\\ccf2a3d9eea04154ba14...</td>\n",
       "      <td>..\\..\\data\\nr\\test\\source\\ccf2a3d9eea04154ba14...</td>\n",
       "      <td>15.0</td>\n",
       "    </tr>\n",
       "    <tr>\n",
       "      <td>2</td>\n",
       "      <td>..\\..\\data\\nr\\test\\mix\\cd1d24c1b72040f2b6548c2...</td>\n",
       "      <td>..\\..\\data\\nr\\test\\source\\cd1d24c1b72040f2b654...</td>\n",
       "      <td>..\\..\\data\\nr\\test\\source\\cd1d24c1b72040f2b654...</td>\n",
       "      <td>15.0</td>\n",
       "    </tr>\n",
       "    <tr>\n",
       "      <td>3</td>\n",
       "      <td>..\\..\\data\\nr\\test\\mix\\cd257893cc344a988564cc8...</td>\n",
       "      <td>..\\..\\data\\nr\\test\\source\\cd257893cc344a988564...</td>\n",
       "      <td>..\\..\\data\\nr\\test\\source\\cd257893cc344a988564...</td>\n",
       "      <td>15.0</td>\n",
       "    </tr>\n",
       "    <tr>\n",
       "      <td>4</td>\n",
       "      <td>..\\..\\data\\nr\\test\\mix\\cdad48658f2b4207afb0cae...</td>\n",
       "      <td>..\\..\\data\\nr\\test\\source\\cdad48658f2b4207afb0...</td>\n",
       "      <td>..\\..\\data\\nr\\test\\source\\cdad48658f2b4207afb0...</td>\n",
       "      <td>15.0</td>\n",
       "    </tr>\n",
       "  </tbody>\n",
       "</table>\n",
       "</div>"
      ],
      "text/plain": [
       "                                            mix_path  \\\n",
       "0  ..\\..\\data\\nr\\test\\mix\\ccc0f5f83eab4172838dbd9...   \n",
       "1  ..\\..\\data\\nr\\test\\mix\\ccf2a3d9eea04154ba14e05...   \n",
       "2  ..\\..\\data\\nr\\test\\mix\\cd1d24c1b72040f2b6548c2...   \n",
       "3  ..\\..\\data\\nr\\test\\mix\\cd257893cc344a988564cc8...   \n",
       "4  ..\\..\\data\\nr\\test\\mix\\cdad48658f2b4207afb0cae...   \n",
       "\n",
       "                                          voice_path  \\\n",
       "0  ..\\..\\data\\nr\\test\\source\\ccc0f5f83eab4172838d...   \n",
       "1  ..\\..\\data\\nr\\test\\source\\ccf2a3d9eea04154ba14...   \n",
       "2  ..\\..\\data\\nr\\test\\source\\cd1d24c1b72040f2b654...   \n",
       "3  ..\\..\\data\\nr\\test\\source\\cd257893cc344a988564...   \n",
       "4  ..\\..\\data\\nr\\test\\source\\cdad48658f2b4207afb0...   \n",
       "\n",
       "                                          noise_path  duration  \n",
       "0  ..\\..\\data\\nr\\test\\source\\ccc0f5f83eab4172838d...      15.0  \n",
       "1  ..\\..\\data\\nr\\test\\source\\ccf2a3d9eea04154ba14...      15.0  \n",
       "2  ..\\..\\data\\nr\\test\\source\\cd1d24c1b72040f2b654...      15.0  \n",
       "3  ..\\..\\data\\nr\\test\\source\\cd257893cc344a988564...      15.0  \n",
       "4  ..\\..\\data\\nr\\test\\source\\cdad48658f2b4207afb0...      15.0  "
      ]
     },
     "execution_count": 11,
     "metadata": {},
     "output_type": "execute_result"
    }
   ],
   "source": [
    "preprocess_part(\"test\")"
   ]
  }
 ],
 "metadata": {
  "kernelspec": {
   "display_name": "Python 3",
   "language": "python",
   "name": "python3"
  },
  "language_info": {
   "codemirror_mode": {
    "name": "ipython",
    "version": 3
   },
   "file_extension": ".py",
   "mimetype": "text/x-python",
   "name": "python",
   "nbconvert_exporter": "python",
   "pygments_lexer": "ipython3",
   "version": "3.7.5"
  }
 },
 "nbformat": 4,
 "nbformat_minor": 4
}
