{
 "cells": [
  {
   "cell_type": "code",
   "execution_count": 17,
   "metadata": {},
   "outputs": [],
   "source": [
    "from pathlib import Path\n",
    "\n",
    "import pandas as pd\n",
    "\n",
    "import numpy as np\n",
    "\n",
    "from librosa.core import get_duration, resample, load\n",
    "from librosa.output import write_wav\n",
    "\n",
    "from tqdm.autonotebook import tqdm"
   ]
  },
  {
   "cell_type": "code",
   "execution_count": 3,
   "metadata": {},
   "outputs": [],
   "source": [
    "current_dir = Path('.')"
   ]
  },
  {
   "cell_type": "code",
   "execution_count": 4,
   "metadata": {},
   "outputs": [],
   "source": [
    "config_path = \"config\"\n",
    "(current_dir / config_path).mkdir(exist_ok=True)"
   ]
  },
  {
   "cell_type": "markdown",
   "metadata": {},
   "source": [
    "Данные находятся на 2 уровня выше (если не так, то нужно прописать путь по папки)"
   ]
  },
  {
   "cell_type": "code",
   "execution_count": 5,
   "metadata": {},
   "outputs": [],
   "source": [
    "data_dir = current_dir / '..' / '..' / 'data' / 'nr'"
   ]
  },
  {
   "cell_type": "code",
   "execution_count": 6,
   "metadata": {},
   "outputs": [],
   "source": [
    "output_dir = current_dir / '..' / '..' / 'data' / \"transformed\" / 'nr'"
   ]
  },
  {
   "cell_type": "code",
   "execution_count": 9,
   "metadata": {},
   "outputs": [
    {
     "data": {
      "text/plain": [
       "[WindowsPath('../../data/nr/test'), WindowsPath('../../data/nr/train')]"
      ]
     },
     "execution_count": 9,
     "metadata": {},
     "output_type": "execute_result"
    }
   ],
   "source": [
    "list(data_dir.iterdir())"
   ]
  },
  {
   "cell_type": "markdown",
   "metadata": {},
   "source": [
    "## Почему так?\n",
    "Из-за непонятной мне причины, `spleeter` работает только с стерое-аудио, причем с `sample_rate` только 44100."
   ]
  },
  {
   "cell_type": "code",
   "execution_count": 10,
   "metadata": {},
   "outputs": [],
   "source": [
    "from_sr = 8000\n",
    "to_sr = 44100"
   ]
  },
  {
   "cell_type": "code",
   "execution_count": 18,
   "metadata": {},
   "outputs": [],
   "source": [
    "def preprocess_part(part):\n",
    "    df = pd.DataFrame(columns=[\"mix_path\", \"voice_path\", \"noise_path\", \"duration\"])\n",
    "    \n",
    "    for mix_dir in tqdm((data_dir / part / \"mix\").iterdir()):\n",
    "        #### pathes\n",
    "        mix_path = mix_dir / \"mix.wav\"\n",
    "        folder_name = mix_dir.stem\n",
    "        voice_path = data_dir / part / \"source\" / folder_name / \"1.wav\"\n",
    "        noise_path = data_dir / part / \"source\" / folder_name / \"2.wav\"\n",
    "        \n",
    "        #### load audio\n",
    "        mix_audio, _ = load(str(mix_path), from_sr)\n",
    "        voice_audio, _ = load(str(voice_path), from_sr)\n",
    "        noise_audio, _ = load(str(noise_path), from_sr)\n",
    "        \n",
    "        #### check duration\n",
    "        mix_duration = get_duration(mix_audio, from_sr)\n",
    "        voice_duration = get_duration(voice_audio, from_sr)\n",
    "        noise_duration = get_duration(noise_audio, from_sr)\n",
    "        assert mix_duration == voice_duration == noise_duration\n",
    "        \n",
    "        #### resample\n",
    "        mix_audio = resample(mix_audio, from_sr, to_sr)\n",
    "        voice_audio = resample(voice_audio, from_sr, to_sr)\n",
    "        noise_audio = resample(noise_audio, from_sr, to_sr)        \n",
    "        \n",
    "        #### convert to stereo\n",
    "        mix_audio = np.repeat(mix_audio.reshape(-1, 1), 2, axis=-1).reshape(-1, 2)\n",
    "        voice_audio = np.repeat(voice_audio.reshape(-1, 1), 2, axis=-1).reshape(-1, 2)\n",
    "        noise_audio = np.repeat(noise_audio.reshape(-1, 1), 2, axis=-1).reshape(-1, 2)\n",
    "        \n",
    "        #### get relatives pathes\n",
    "        mix_path = mix_path.relative_to(data_dir)\n",
    "        voice_path = voice_path.relative_to(data_dir)\n",
    "        noise_path = noise_path.relative_to(data_dir)\n",
    "        \n",
    "        #### write transformed wavs\n",
    "        (output_dir / part / \"source\" / folder_name).mkdir(parents=True, exist_ok=True)\n",
    "        (output_dir / part / \"mix\" / folder_name).mkdir(parents=True, exist_ok=True)\n",
    "        write_wav(str(output_dir / mix_path), mix_audio, to_sr)\n",
    "        write_wav(str(output_dir / voice_path), voice_audio, to_sr)\n",
    "        write_wav(str(output_dir / noise_path), noise_audio, to_sr)\n",
    "        \n",
    "        #### save in dataframe\n",
    "        df.loc[len(df)] = [mix_path, voice_path, noise_path, mix_duration]\n",
    "        \n",
    "    df.to_csv(f\"{config_path}/voice_{part}.csv\", index=False)\n",
    "    return df.head()"
   ]
  },
  {
   "cell_type": "code",
   "execution_count": 20,
   "metadata": {},
   "outputs": [
    {
     "data": {
      "application/vnd.jupyter.widget-view+json": {
       "model_id": "6a0eb7dbf8264543b1ec1199f7512416",
       "version_major": 2,
       "version_minor": 0
      },
      "text/plain": [
       "HBox(children=(IntProgress(value=1, bar_style='info', max=1), HTML(value='')))"
      ]
     },
     "metadata": {},
     "output_type": "display_data"
    },
    {
     "name": "stdout",
     "output_type": "stream",
     "text": [
      "\n"
     ]
    },
    {
     "data": {
      "text/html": [
       "<div>\n",
       "<style scoped>\n",
       "    .dataframe tbody tr th:only-of-type {\n",
       "        vertical-align: middle;\n",
       "    }\n",
       "\n",
       "    .dataframe tbody tr th {\n",
       "        vertical-align: top;\n",
       "    }\n",
       "\n",
       "    .dataframe thead th {\n",
       "        text-align: right;\n",
       "    }\n",
       "</style>\n",
       "<table border=\"1\" class=\"dataframe\">\n",
       "  <thead>\n",
       "    <tr style=\"text-align: right;\">\n",
       "      <th></th>\n",
       "      <th>mix_path</th>\n",
       "      <th>voice_path</th>\n",
       "      <th>noise_path</th>\n",
       "      <th>duration</th>\n",
       "    </tr>\n",
       "  </thead>\n",
       "  <tbody>\n",
       "    <tr>\n",
       "      <td>0</td>\n",
       "      <td>train\\mix\\0006f9c421ef408ab5fd5a4aa41e8fee\\mix...</td>\n",
       "      <td>train\\source\\0006f9c421ef408ab5fd5a4aa41e8fee\\...</td>\n",
       "      <td>train\\source\\0006f9c421ef408ab5fd5a4aa41e8fee\\...</td>\n",
       "      <td>15.0</td>\n",
       "    </tr>\n",
       "    <tr>\n",
       "      <td>1</td>\n",
       "      <td>train\\mix\\00a38fa379b8423192eb11a142a6018e\\mix...</td>\n",
       "      <td>train\\source\\00a38fa379b8423192eb11a142a6018e\\...</td>\n",
       "      <td>train\\source\\00a38fa379b8423192eb11a142a6018e\\...</td>\n",
       "      <td>15.0</td>\n",
       "    </tr>\n",
       "    <tr>\n",
       "      <td>2</td>\n",
       "      <td>train\\mix\\00a9062c28ec46ac8c39452007a850f8\\mix...</td>\n",
       "      <td>train\\source\\00a9062c28ec46ac8c39452007a850f8\\...</td>\n",
       "      <td>train\\source\\00a9062c28ec46ac8c39452007a850f8\\...</td>\n",
       "      <td>15.0</td>\n",
       "    </tr>\n",
       "    <tr>\n",
       "      <td>3</td>\n",
       "      <td>train\\mix\\00ac38d7e579480f83b3adfae1926f9c\\mix...</td>\n",
       "      <td>train\\source\\00ac38d7e579480f83b3adfae1926f9c\\...</td>\n",
       "      <td>train\\source\\00ac38d7e579480f83b3adfae1926f9c\\...</td>\n",
       "      <td>15.0</td>\n",
       "    </tr>\n",
       "    <tr>\n",
       "      <td>4</td>\n",
       "      <td>train\\mix\\00f17f6ef7234254a9456f83321a54b4\\mix...</td>\n",
       "      <td>train\\source\\00f17f6ef7234254a9456f83321a54b4\\...</td>\n",
       "      <td>train\\source\\00f17f6ef7234254a9456f83321a54b4\\...</td>\n",
       "      <td>15.0</td>\n",
       "    </tr>\n",
       "  </tbody>\n",
       "</table>\n",
       "</div>"
      ],
      "text/plain": [
       "                                            mix_path  \\\n",
       "0  train\\mix\\0006f9c421ef408ab5fd5a4aa41e8fee\\mix...   \n",
       "1  train\\mix\\00a38fa379b8423192eb11a142a6018e\\mix...   \n",
       "2  train\\mix\\00a9062c28ec46ac8c39452007a850f8\\mix...   \n",
       "3  train\\mix\\00ac38d7e579480f83b3adfae1926f9c\\mix...   \n",
       "4  train\\mix\\00f17f6ef7234254a9456f83321a54b4\\mix...   \n",
       "\n",
       "                                          voice_path  \\\n",
       "0  train\\source\\0006f9c421ef408ab5fd5a4aa41e8fee\\...   \n",
       "1  train\\source\\00a38fa379b8423192eb11a142a6018e\\...   \n",
       "2  train\\source\\00a9062c28ec46ac8c39452007a850f8\\...   \n",
       "3  train\\source\\00ac38d7e579480f83b3adfae1926f9c\\...   \n",
       "4  train\\source\\00f17f6ef7234254a9456f83321a54b4\\...   \n",
       "\n",
       "                                          noise_path  duration  \n",
       "0  train\\source\\0006f9c421ef408ab5fd5a4aa41e8fee\\...      15.0  \n",
       "1  train\\source\\00a38fa379b8423192eb11a142a6018e\\...      15.0  \n",
       "2  train\\source\\00a9062c28ec46ac8c39452007a850f8\\...      15.0  \n",
       "3  train\\source\\00ac38d7e579480f83b3adfae1926f9c\\...      15.0  \n",
       "4  train\\source\\00f17f6ef7234254a9456f83321a54b4\\...      15.0  "
      ]
     },
     "execution_count": 20,
     "metadata": {},
     "output_type": "execute_result"
    }
   ],
   "source": [
    "preprocess_part(\"train\")"
   ]
  },
  {
   "cell_type": "code",
   "execution_count": 21,
   "metadata": {},
   "outputs": [
    {
     "data": {
      "application/vnd.jupyter.widget-view+json": {
       "model_id": "e78718f63893499fa5b037d550921ede",
       "version_major": 2,
       "version_minor": 0
      },
      "text/plain": [
       "HBox(children=(IntProgress(value=1, bar_style='info', max=1), HTML(value='')))"
      ]
     },
     "metadata": {},
     "output_type": "display_data"
    },
    {
     "name": "stdout",
     "output_type": "stream",
     "text": [
      "\n"
     ]
    },
    {
     "data": {
      "text/html": [
       "<div>\n",
       "<style scoped>\n",
       "    .dataframe tbody tr th:only-of-type {\n",
       "        vertical-align: middle;\n",
       "    }\n",
       "\n",
       "    .dataframe tbody tr th {\n",
       "        vertical-align: top;\n",
       "    }\n",
       "\n",
       "    .dataframe thead th {\n",
       "        text-align: right;\n",
       "    }\n",
       "</style>\n",
       "<table border=\"1\" class=\"dataframe\">\n",
       "  <thead>\n",
       "    <tr style=\"text-align: right;\">\n",
       "      <th></th>\n",
       "      <th>mix_path</th>\n",
       "      <th>voice_path</th>\n",
       "      <th>noise_path</th>\n",
       "      <th>duration</th>\n",
       "    </tr>\n",
       "  </thead>\n",
       "  <tbody>\n",
       "    <tr>\n",
       "      <td>0</td>\n",
       "      <td>test\\mix\\ccc0f5f83eab4172838dbd9820189421\\mix.wav</td>\n",
       "      <td>test\\source\\ccc0f5f83eab4172838dbd9820189421\\1...</td>\n",
       "      <td>test\\source\\ccc0f5f83eab4172838dbd9820189421\\2...</td>\n",
       "      <td>15.0</td>\n",
       "    </tr>\n",
       "    <tr>\n",
       "      <td>1</td>\n",
       "      <td>test\\mix\\ccf2a3d9eea04154ba14e05c4bf77ffb\\mix.wav</td>\n",
       "      <td>test\\source\\ccf2a3d9eea04154ba14e05c4bf77ffb\\1...</td>\n",
       "      <td>test\\source\\ccf2a3d9eea04154ba14e05c4bf77ffb\\2...</td>\n",
       "      <td>15.0</td>\n",
       "    </tr>\n",
       "    <tr>\n",
       "      <td>2</td>\n",
       "      <td>test\\mix\\cd1d24c1b72040f2b6548c281a722ac5\\mix.wav</td>\n",
       "      <td>test\\source\\cd1d24c1b72040f2b6548c281a722ac5\\1...</td>\n",
       "      <td>test\\source\\cd1d24c1b72040f2b6548c281a722ac5\\2...</td>\n",
       "      <td>15.0</td>\n",
       "    </tr>\n",
       "    <tr>\n",
       "      <td>3</td>\n",
       "      <td>test\\mix\\cd257893cc344a988564cc88c173cbf8\\mix.wav</td>\n",
       "      <td>test\\source\\cd257893cc344a988564cc88c173cbf8\\1...</td>\n",
       "      <td>test\\source\\cd257893cc344a988564cc88c173cbf8\\2...</td>\n",
       "      <td>15.0</td>\n",
       "    </tr>\n",
       "    <tr>\n",
       "      <td>4</td>\n",
       "      <td>test\\mix\\cdad48658f2b4207afb0caef69307106\\mix.wav</td>\n",
       "      <td>test\\source\\cdad48658f2b4207afb0caef69307106\\1...</td>\n",
       "      <td>test\\source\\cdad48658f2b4207afb0caef69307106\\2...</td>\n",
       "      <td>15.0</td>\n",
       "    </tr>\n",
       "  </tbody>\n",
       "</table>\n",
       "</div>"
      ],
      "text/plain": [
       "                                            mix_path  \\\n",
       "0  test\\mix\\ccc0f5f83eab4172838dbd9820189421\\mix.wav   \n",
       "1  test\\mix\\ccf2a3d9eea04154ba14e05c4bf77ffb\\mix.wav   \n",
       "2  test\\mix\\cd1d24c1b72040f2b6548c281a722ac5\\mix.wav   \n",
       "3  test\\mix\\cd257893cc344a988564cc88c173cbf8\\mix.wav   \n",
       "4  test\\mix\\cdad48658f2b4207afb0caef69307106\\mix.wav   \n",
       "\n",
       "                                          voice_path  \\\n",
       "0  test\\source\\ccc0f5f83eab4172838dbd9820189421\\1...   \n",
       "1  test\\source\\ccf2a3d9eea04154ba14e05c4bf77ffb\\1...   \n",
       "2  test\\source\\cd1d24c1b72040f2b6548c281a722ac5\\1...   \n",
       "3  test\\source\\cd257893cc344a988564cc88c173cbf8\\1...   \n",
       "4  test\\source\\cdad48658f2b4207afb0caef69307106\\1...   \n",
       "\n",
       "                                          noise_path  duration  \n",
       "0  test\\source\\ccc0f5f83eab4172838dbd9820189421\\2...      15.0  \n",
       "1  test\\source\\ccf2a3d9eea04154ba14e05c4bf77ffb\\2...      15.0  \n",
       "2  test\\source\\cd1d24c1b72040f2b6548c281a722ac5\\2...      15.0  \n",
       "3  test\\source\\cd257893cc344a988564cc88c173cbf8\\2...      15.0  \n",
       "4  test\\source\\cdad48658f2b4207afb0caef69307106\\2...      15.0  "
      ]
     },
     "execution_count": 21,
     "metadata": {},
     "output_type": "execute_result"
    }
   ],
   "source": [
    "preprocess_part(\"test\")"
   ]
  }
 ],
 "metadata": {
  "kernelspec": {
   "display_name": "Python 3",
   "language": "python",
   "name": "python3"
  },
  "language_info": {
   "codemirror_mode": {
    "name": "ipython",
    "version": 3
   },
   "file_extension": ".py",
   "mimetype": "text/x-python",
   "name": "python",
   "nbconvert_exporter": "python",
   "pygments_lexer": "ipython3",
   "version": "3.7.5"
  }
 },
 "nbformat": 4,
 "nbformat_minor": 4
}
